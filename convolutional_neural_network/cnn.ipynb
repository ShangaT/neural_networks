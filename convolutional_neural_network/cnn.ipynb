{
 "cells": [
  {
   "cell_type": "code",
   "execution_count": 2,
   "metadata": {},
   "outputs": [],
   "source": [
    "import numpy as np\n",
    "import tensorflow as tf\n",
    "from keras.preprocessing.image import ImageDataGenerator\n",
    "from keras.layers import Dense, Flatten, Conv2D, MaxPooling2D\n",
    "\n",
    "from keras.models import load_model\n",
    "from keras.preprocessing import image"
   ]
  },
  {
   "cell_type": "code",
   "execution_count": 4,
   "metadata": {},
   "outputs": [
    {
     "name": "stdout",
     "output_type": "stream",
     "text": [
      "Found 4449 images belonging to 8 classes.\n",
      "Found 1109 images belonging to 8 classes.\n",
      "{'anger': 0, 'contempt': 1, 'disgust': 2, 'fear': 3, 'happiness': 4, 'neutrality': 5, 'sadness': 6, 'surprise': 7}\n"
     ]
    }
   ],
   "source": [
    "data_dir = 'images'\n",
    "image_size = 224\n",
    "\n",
    "data_generator = ImageDataGenerator(rescale=1./255, validation_split=0.2)\n",
    "\n",
    "train_generator = data_generator.flow_from_directory(data_dir, target_size=(image_size, image_size), batch_size=32, class_mode='categorical', subset='training')\n",
    "validation_generator = data_generator.flow_from_directory(data_dir, target_size=(image_size, image_size), batch_size=32, class_mode='categorical', subset='validation')\n",
    "\n",
    "print(train_generator.class_indices)"
   ]
  },
  {
   "cell_type": "code",
   "execution_count": 3,
   "metadata": {},
   "outputs": [
    {
     "name": "stdout",
     "output_type": "stream",
     "text": [
      "Epoch 1/15\n",
      "140/140 [==============================] - 80s 563ms/step - loss: 1.8654 - accuracy: 0.2958 - val_loss: 1.7611 - val_accuracy: 0.3986\n",
      "Epoch 2/15\n",
      "140/140 [==============================] - 82s 587ms/step - loss: 1.6152 - accuracy: 0.4100 - val_loss: 1.6644 - val_accuracy: 0.4103\n",
      "Epoch 3/15\n",
      "140/140 [==============================] - 81s 576ms/step - loss: 1.4641 - accuracy: 0.4603 - val_loss: 1.5783 - val_accuracy: 0.4184\n",
      "Epoch 4/15\n",
      "140/140 [==============================] - 82s 582ms/step - loss: 1.3498 - accuracy: 0.5107 - val_loss: 1.6015 - val_accuracy: 0.4409\n",
      "Epoch 5/15\n",
      "140/140 [==============================] - 87s 625ms/step - loss: 1.1669 - accuracy: 0.5806 - val_loss: 1.5705 - val_accuracy: 0.4500\n",
      "Epoch 6/15\n",
      "140/140 [==============================] - 87s 622ms/step - loss: 1.0036 - accuracy: 0.6453 - val_loss: 1.6185 - val_accuracy: 0.4581\n",
      "Epoch 7/15\n",
      "140/140 [==============================] - 97s 692ms/step - loss: 0.8158 - accuracy: 0.7157 - val_loss: 1.8001 - val_accuracy: 0.4581\n",
      "Epoch 8/15\n",
      "140/140 [==============================] - 92s 658ms/step - loss: 0.6308 - accuracy: 0.7844 - val_loss: 2.0084 - val_accuracy: 0.4436\n",
      "Epoch 9/15\n",
      "140/140 [==============================] - 83s 592ms/step - loss: 0.4491 - accuracy: 0.8530 - val_loss: 2.1641 - val_accuracy: 0.4373\n",
      "Epoch 10/15\n",
      "140/140 [==============================] - 96s 690ms/step - loss: 0.3254 - accuracy: 0.9011 - val_loss: 2.6291 - val_accuracy: 0.4337\n",
      "Epoch 11/15\n",
      "140/140 [==============================] - 93s 665ms/step - loss: 0.2197 - accuracy: 0.9364 - val_loss: 2.7807 - val_accuracy: 0.4238\n",
      "Epoch 12/15\n",
      "140/140 [==============================] - 94s 671ms/step - loss: 0.4431 - accuracy: 0.8741 - val_loss: 2.4554 - val_accuracy: 0.4130\n",
      "Epoch 13/15\n",
      "140/140 [==============================] - 99s 708ms/step - loss: 0.3329 - accuracy: 0.8910 - val_loss: 2.9651 - val_accuracy: 0.4310\n",
      "Epoch 14/15\n",
      "140/140 [==============================] - 95s 679ms/step - loss: 0.1370 - accuracy: 0.9715 - val_loss: 3.2784 - val_accuracy: 0.4193\n",
      "Epoch 15/15\n",
      "140/140 [==============================] - 83s 594ms/step - loss: 0.1656 - accuracy: 0.9591 - val_loss: 3.2104 - val_accuracy: 0.4427\n"
     ]
    },
    {
     "data": {
      "text/plain": [
       "<keras.src.callbacks.History at 0x2ca23c95910>"
      ]
     },
     "execution_count": 3,
     "metadata": {},
     "output_type": "execute_result"
    }
   ],
   "source": [
    "model = tf.keras.Sequential([\n",
    "    Conv2D(32, (3,3), activation='relu', input_shape=(image_size, image_size, 3)),\n",
    "    MaxPooling2D((4, 4)),\n",
    "    Conv2D(64, (3,3), activation='relu'),\n",
    "    MaxPooling2D((4, 4)),\n",
    "    Flatten(),\n",
    "    Dense(128, activation='relu'),\n",
    "    Dense(8,  activation='softmax')\n",
    "])\n",
    "\n",
    "model.compile(optimizer='adam', loss='categorical_crossentropy', metrics=['accuracy'])\n",
    "model.fit(train_generator, epochs=15, validation_data=validation_generator)"
   ]
  },
  {
   "cell_type": "code",
   "execution_count": 4,
   "metadata": {},
   "outputs": [],
   "source": [
    "model.save('my_model.keras')"
   ]
  },
  {
   "cell_type": "code",
   "execution_count": 13,
   "metadata": {},
   "outputs": [
    {
     "name": "stdout",
     "output_type": "stream",
     "text": [
      "WARNING:tensorflow:6 out of the last 6 calls to <function Model.make_predict_function.<locals>.predict_function at 0x00000279CE4F9940> triggered tf.function retracing. Tracing is expensive and the excessive number of tracings could be due to (1) creating @tf.function repeatedly in a loop, (2) passing tensors with different shapes, (3) passing Python objects instead of tensors. For (1), please define your @tf.function outside of the loop. For (2), @tf.function has reduce_retracing=True option that can avoid unnecessary retracing. For (3), please refer to https://www.tensorflow.org/guide/function#controlling_retracing and https://www.tensorflow.org/api_docs/python/tf/function for  more details.\n",
      "1/1 [==============================] - 0s 177ms/step\n",
      "happiness\n"
     ]
    }
   ],
   "source": [
    "# Загрузка модели\n",
    "model = load_model('my_model.keras')\n",
    "\n",
    "# Загрузка и обработка входной картинки\n",
    "img = image.load_img('test_image.png', target_size=(224, 224))\n",
    "img = image.img_to_array(img)\n",
    "img = np.expand_dims(img, axis=0)\n",
    "\n",
    "predicted_class = model.predict(img)\n",
    "\n",
    "for key, value in train_generator.class_indices.items():\n",
    "    if predicted_class[0][value] != 0:\n",
    "        print(key)\n"
   ]
  }
 ],
 "metadata": {
  "kernelspec": {
   "display_name": "Python 3",
   "language": "python",
   "name": "python3"
  },
  "language_info": {
   "codemirror_mode": {
    "name": "ipython",
    "version": 3
   },
   "file_extension": ".py",
   "mimetype": "text/x-python",
   "name": "python",
   "nbconvert_exporter": "python",
   "pygments_lexer": "ipython3",
   "version": "3.11.6"
  }
 },
 "nbformat": 4,
 "nbformat_minor": 2
}
